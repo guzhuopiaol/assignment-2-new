{
 "cells": [
  {
   "cell_type": "code",
   "execution_count": 1,
   "metadata": {},
   "outputs": [],
   "source": [
    "import pandas as pd\n",
    "from tqdm.notebook import tqdm\n",
    "from multiprocessing.pool import ThreadPool\n",
    "from threading import Lock"
   ]
  },
  {
   "cell_type": "code",
   "execution_count": 2,
   "metadata": {},
   "outputs": [],
   "source": [
    "data = pd.read_stata(\"./endkql21mjhqyjk5.dta\")"
   ]
  },
  {
   "cell_type": "code",
   "execution_count": 3,
   "metadata": {},
   "outputs": [],
   "source": [
    "funds = data[\"fundno\"].unique().tolist()"
   ]
  },
  {
   "cell_type": "code",
   "execution_count": 4,
   "metadata": {},
   "outputs": [],
   "source": [
    "fulldate = []\n",
    "for year in range(1997,2008):\n",
    "    for date in ['-03-31', '-06-30', '-09-30', '-12-31']:\n",
    "        fulldate.append(\"{0}\".format(year)+date)\n",
    "fulldate = pd.to_datetime(fulldate)"
   ]
  },
  {
   "cell_type": "code",
   "execution_count": 15,
   "metadata": {},
   "outputs": [],
   "source": [
    "def fund_interp(fundno):\n",
    "    D = []\n",
    "    df = data.query(\"fundno=={0}\".format(fundno))\n",
    "    cusips = df[\"cusip\"].unique().tolist()\n",
    "    for cusip in cusips:\n",
    "        dfc = df.query(\"cusip=='{0}'\".format(cusip)).set_index(\"fdate\").reindex(fulldate).interpolate(\"pad\").reset_index()\n",
    "        D.append(dfc.dropna())\n",
    "    D = pd.concat(D)\n",
    "    return D"
   ]
  },
  {
   "cell_type": "code",
   "execution_count": 16,
   "metadata": {},
   "outputs": [],
   "source": [
    "class Interpolate:\n",
    "    '''用于输出'''\n",
    "    def __init__(self,data,result,lock=None):\n",
    "        self.data = data\n",
    "        self.result = result\n",
    "        self.pb = tqdm(total=data[\"fundno\"].unique().shape[0],desc=\"Interping\")\n",
    "        self.lock = lock\n",
    "\n",
    "    def __call__(self,fundno):\n",
    "        res = fund_interp(fundno)\n",
    "        if self.lock\n",
    "            self.lock.acquire()\n",
    "            self.result.append(res)\n",
    "            self.lock.release()\n",
    "        else:\n",
    "            self.result.append(res)\n",
    "        self.pb.update(1)"
   ]
  },
  {
   "cell_type": "code",
   "execution_count": 17,
   "metadata": {},
   "outputs": [
    {
     "data": {
      "application/vnd.jupyter.widget-view+json": {
       "model_id": "436cf41eb6fd41b5a700ff6b3d767e51",
       "version_major": 2,
       "version_minor": 0
      },
      "text/plain": [
       "Interping:   0%|          | 0/39971 [00:00<?, ?it/s]"
      ]
     },
     "metadata": {},
     "output_type": "display_data"
    }
   ],
   "source": [
    "D = []\n",
    "Interpolater = Interpolate(data,D)\n",
    "pool = ThreadPool(6)\n",
    "pool.map(Interpolater, funds)\n",
    "pool.close()"
   ]
  },
  {
   "cell_type": "code",
   "execution_count": 18,
   "metadata": {},
   "outputs": [],
   "source": [
    "D = pd.concat(D)\n",
    "D.to_stata(\"插值.dta\")"
   ]
  },
  {
   "cell_type": "code",
   "execution_count": null,
   "metadata": {},
   "outputs": [],
   "source": []
  }
 ],
 "metadata": {
  "kernelspec": {
   "display_name": "Python 3 (ipykernel)",
   "language": "python",
   "name": "python3"
  },
  "language_info": {
   "codemirror_mode": {
    "name": "ipython",
    "version": 3
   },
   "file_extension": ".py",
   "mimetype": "text/x-python",
   "name": "python",
   "nbconvert_exporter": "python",
   "pygments_lexer": "ipython3",
   "version": "3.11.5"
  }
 },
 "nbformat": 4,
 "nbformat_minor": 2
}
